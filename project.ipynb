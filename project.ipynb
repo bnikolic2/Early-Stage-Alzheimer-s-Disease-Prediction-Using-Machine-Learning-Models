{
 "cells": [
  {
   "cell_type": "markdown",
   "metadata": {},
   "source": [
    "# Early-Stage Alzheimer's Disease Prediction Using Machine Learning Models"
   ]
  },
  {
   "cell_type": "markdown",
   "metadata": {},
   "source": [
    "[ISTRAŽIVAČKI RAD](https://www.frontiersin.org/articles/10.3389/fpubh.2022.853294/full#B21)  \n",
    "\n",
    "[DATASET](https://www.kaggle.com/datasets/jboysen/mri-and-alzheimers/data?select=oasis_longitudinal.csv)"
   ]
  },
  {
   "cell_type": "markdown",
   "metadata": {},
   "source": [
    "#### UČITAVANJE PODATAKA"
   ]
  },
  {
   "cell_type": "code",
   "execution_count": 1,
   "metadata": {},
   "outputs": [],
   "source": [
    "import pandas as pd\n",
    "import numpy as np"
   ]
  },
  {
   "cell_type": "code",
   "execution_count": 2,
   "metadata": {},
   "outputs": [
    {
     "data": {
      "text/plain": [
       "(373, 15)"
      ]
     },
     "execution_count": 2,
     "metadata": {},
     "output_type": "execute_result"
    }
   ],
   "source": [
    "X = pd.read_csv(\"dataset/oasis_longitudinal.csv\")\n",
    "X.shape"
   ]
  },
  {
   "cell_type": "markdown",
   "metadata": {},
   "source": [
    "U skupu podataka dostupno 373 zapisa sa 15 značajki."
   ]
  },
  {
   "cell_type": "markdown",
   "metadata": {},
   "source": [
    "### 1.  INICIJALI POGLED NA PODATKE"
   ]
  },
  {
   "cell_type": "markdown",
   "metadata": {},
   "source": [
    "#### DESKRIPTIVNA STATISTIKA"
   ]
  },
  {
   "cell_type": "code",
   "execution_count": 3,
   "metadata": {},
   "outputs": [
    {
     "data": {
      "text/html": [
       "<div>\n",
       "<style scoped>\n",
       "    .dataframe tbody tr th:only-of-type {\n",
       "        vertical-align: middle;\n",
       "    }\n",
       "\n",
       "    .dataframe tbody tr th {\n",
       "        vertical-align: top;\n",
       "    }\n",
       "\n",
       "    .dataframe thead th {\n",
       "        text-align: right;\n",
       "    }\n",
       "</style>\n",
       "<table border=\"1\" class=\"dataframe\">\n",
       "  <thead>\n",
       "    <tr style=\"text-align: right;\">\n",
       "      <th></th>\n",
       "      <th>Subject ID</th>\n",
       "      <th>MRI ID</th>\n",
       "      <th>Group</th>\n",
       "      <th>Visit</th>\n",
       "      <th>MR Delay</th>\n",
       "      <th>M/F</th>\n",
       "      <th>Hand</th>\n",
       "      <th>Age</th>\n",
       "      <th>EDUC</th>\n",
       "      <th>SES</th>\n",
       "      <th>MMSE</th>\n",
       "      <th>CDR</th>\n",
       "      <th>eTIV</th>\n",
       "      <th>nWBV</th>\n",
       "      <th>ASF</th>\n",
       "    </tr>\n",
       "  </thead>\n",
       "  <tbody>\n",
       "    <tr>\n",
       "      <th>0</th>\n",
       "      <td>OAS2_0001</td>\n",
       "      <td>OAS2_0001_MR1</td>\n",
       "      <td>Nondemented</td>\n",
       "      <td>1</td>\n",
       "      <td>0</td>\n",
       "      <td>M</td>\n",
       "      <td>R</td>\n",
       "      <td>87</td>\n",
       "      <td>14</td>\n",
       "      <td>2.0</td>\n",
       "      <td>27.0</td>\n",
       "      <td>0.0</td>\n",
       "      <td>1987</td>\n",
       "      <td>0.696</td>\n",
       "      <td>0.883</td>\n",
       "    </tr>\n",
       "    <tr>\n",
       "      <th>1</th>\n",
       "      <td>OAS2_0001</td>\n",
       "      <td>OAS2_0001_MR2</td>\n",
       "      <td>Nondemented</td>\n",
       "      <td>2</td>\n",
       "      <td>457</td>\n",
       "      <td>M</td>\n",
       "      <td>R</td>\n",
       "      <td>88</td>\n",
       "      <td>14</td>\n",
       "      <td>2.0</td>\n",
       "      <td>30.0</td>\n",
       "      <td>0.0</td>\n",
       "      <td>2004</td>\n",
       "      <td>0.681</td>\n",
       "      <td>0.876</td>\n",
       "    </tr>\n",
       "    <tr>\n",
       "      <th>2</th>\n",
       "      <td>OAS2_0002</td>\n",
       "      <td>OAS2_0002_MR1</td>\n",
       "      <td>Demented</td>\n",
       "      <td>1</td>\n",
       "      <td>0</td>\n",
       "      <td>M</td>\n",
       "      <td>R</td>\n",
       "      <td>75</td>\n",
       "      <td>12</td>\n",
       "      <td>NaN</td>\n",
       "      <td>23.0</td>\n",
       "      <td>0.5</td>\n",
       "      <td>1678</td>\n",
       "      <td>0.736</td>\n",
       "      <td>1.046</td>\n",
       "    </tr>\n",
       "    <tr>\n",
       "      <th>3</th>\n",
       "      <td>OAS2_0002</td>\n",
       "      <td>OAS2_0002_MR2</td>\n",
       "      <td>Demented</td>\n",
       "      <td>2</td>\n",
       "      <td>560</td>\n",
       "      <td>M</td>\n",
       "      <td>R</td>\n",
       "      <td>76</td>\n",
       "      <td>12</td>\n",
       "      <td>NaN</td>\n",
       "      <td>28.0</td>\n",
       "      <td>0.5</td>\n",
       "      <td>1738</td>\n",
       "      <td>0.713</td>\n",
       "      <td>1.010</td>\n",
       "    </tr>\n",
       "    <tr>\n",
       "      <th>4</th>\n",
       "      <td>OAS2_0002</td>\n",
       "      <td>OAS2_0002_MR3</td>\n",
       "      <td>Demented</td>\n",
       "      <td>3</td>\n",
       "      <td>1895</td>\n",
       "      <td>M</td>\n",
       "      <td>R</td>\n",
       "      <td>80</td>\n",
       "      <td>12</td>\n",
       "      <td>NaN</td>\n",
       "      <td>22.0</td>\n",
       "      <td>0.5</td>\n",
       "      <td>1698</td>\n",
       "      <td>0.701</td>\n",
       "      <td>1.034</td>\n",
       "    </tr>\n",
       "    <tr>\n",
       "      <th>5</th>\n",
       "      <td>OAS2_0004</td>\n",
       "      <td>OAS2_0004_MR1</td>\n",
       "      <td>Nondemented</td>\n",
       "      <td>1</td>\n",
       "      <td>0</td>\n",
       "      <td>F</td>\n",
       "      <td>R</td>\n",
       "      <td>88</td>\n",
       "      <td>18</td>\n",
       "      <td>3.0</td>\n",
       "      <td>28.0</td>\n",
       "      <td>0.0</td>\n",
       "      <td>1215</td>\n",
       "      <td>0.710</td>\n",
       "      <td>1.444</td>\n",
       "    </tr>\n",
       "    <tr>\n",
       "      <th>6</th>\n",
       "      <td>OAS2_0004</td>\n",
       "      <td>OAS2_0004_MR2</td>\n",
       "      <td>Nondemented</td>\n",
       "      <td>2</td>\n",
       "      <td>538</td>\n",
       "      <td>F</td>\n",
       "      <td>R</td>\n",
       "      <td>90</td>\n",
       "      <td>18</td>\n",
       "      <td>3.0</td>\n",
       "      <td>27.0</td>\n",
       "      <td>0.0</td>\n",
       "      <td>1200</td>\n",
       "      <td>0.718</td>\n",
       "      <td>1.462</td>\n",
       "    </tr>\n",
       "  </tbody>\n",
       "</table>\n",
       "</div>"
      ],
      "text/plain": [
       "  Subject ID         MRI ID        Group  Visit  MR Delay M/F Hand  Age  EDUC  \\\n",
       "0  OAS2_0001  OAS2_0001_MR1  Nondemented      1         0   M    R   87    14   \n",
       "1  OAS2_0001  OAS2_0001_MR2  Nondemented      2       457   M    R   88    14   \n",
       "2  OAS2_0002  OAS2_0002_MR1     Demented      1         0   M    R   75    12   \n",
       "3  OAS2_0002  OAS2_0002_MR2     Demented      2       560   M    R   76    12   \n",
       "4  OAS2_0002  OAS2_0002_MR3     Demented      3      1895   M    R   80    12   \n",
       "5  OAS2_0004  OAS2_0004_MR1  Nondemented      1         0   F    R   88    18   \n",
       "6  OAS2_0004  OAS2_0004_MR2  Nondemented      2       538   F    R   90    18   \n",
       "\n",
       "   SES  MMSE  CDR  eTIV   nWBV    ASF  \n",
       "0  2.0  27.0  0.0  1987  0.696  0.883  \n",
       "1  2.0  30.0  0.0  2004  0.681  0.876  \n",
       "2  NaN  23.0  0.5  1678  0.736  1.046  \n",
       "3  NaN  28.0  0.5  1738  0.713  1.010  \n",
       "4  NaN  22.0  0.5  1698  0.701  1.034  \n",
       "5  3.0  28.0  0.0  1215  0.710  1.444  \n",
       "6  3.0  27.0  0.0  1200  0.718  1.462  "
      ]
     },
     "execution_count": 3,
     "metadata": {},
     "output_type": "execute_result"
    }
   ],
   "source": [
    "X.head(7)"
   ]
  },
  {
   "cell_type": "code",
   "execution_count": 4,
   "metadata": {},
   "outputs": [
    {
     "data": {
      "text/plain": [
       "Subject ID     object\n",
       "MRI ID         object\n",
       "Group          object\n",
       "Visit           int64\n",
       "MR Delay        int64\n",
       "M/F            object\n",
       "Hand           object\n",
       "Age             int64\n",
       "EDUC            int64\n",
       "SES           float64\n",
       "MMSE          float64\n",
       "CDR           float64\n",
       "eTIV            int64\n",
       "nWBV          float64\n",
       "ASF           float64\n",
       "dtype: object"
      ]
     },
     "execution_count": 4,
     "metadata": {},
     "output_type": "execute_result"
    }
   ],
   "source": [
    "X.dtypes"
   ]
  },
  {
   "cell_type": "markdown",
   "metadata": {},
   "source": [
    "Pojašnjenja značajki:\n",
    " - Subject ID - jedinstveni identifikator osobe, u prikupljanju podataka sudjelovalo je 150 osoba pa tako postoji 150 različitih Subject ID vrijednosti\n",
    " - MRI ID - jedinstveni identifikator MRI skeniranja\n",
    " - Group - oznaka, kategorička varijabla\n",
    "    - \"Demented\"\n",
    "    - \"Nondemented\"\n",
    "    - \"Converted\"\n",
    " - Visit - redni broj skeniranja osobe\n",
    "      - cjelobrojna vrijednost\n",
    " - MR Delay - vremensko kašnjenje MR (kontrast)\n",
    "      - cjelobrojna vrijednost\n",
    " - M/F - spol osobe, kategorička varijabla \n",
    "      - 'M' - muškarac\n",
    "      - 'F'- žena'\n",
    " - Hand - dominantna ruka osobe\n",
    "     - R - dešnjaci \n",
    "     - L- ljevaci\n",
    " - Age - dob osobe\n",
    "     - cjelobrojna vrijednost\n",
    " - EDUC - broj godina obrazovanja\n",
    "     - cjelobrojna vrijednost\n",
    " - SES - socioekonomski status, kategorička varijabla\n",
    " - MMSE - Mini mental state examination score - mjera kognitivnih sposobnosti subjekta \n",
    "    - MMSE <= 9  - ozbiljno kognitivno oštećenje\n",
    "    - 10 <= MMSE <= 18 - umjereno kognitivno oštećenje\n",
    "    - 19 <= MMSE <= 23 -  blago kognitivno oštećenje\n",
    "    - 24 <= MMSE <= 30 - normalne kognitivne sposobnosti\n",
    " - CDR - rang kliničke demencije\n",
    "   - 0 = odsutnost demencije\n",
    "   - 1 = demencija slabo prisutna\n",
    "   - 2= umjerena demencija\n",
    "   - 3 = ozbiljna demencija\n",
    "   - 4 = težak oblik demencije\n",
    "   - 5 = terminalna demecija\n",
    " - eTIV - procjena intrakranijalnog volumena \n",
    "    - cjelobrojna vrijednost\n",
    " - nWBV - normalizirani volumen  mozga\n",
    "    - float vrijednost\n",
    " - ASF - Atlas Scale Volume\n",
    "    - normalizacijska mjera temeljena na standarniziraciji ukupnog intrakranijalnog volumena\n",
    "    - float vrijednost"
   ]
  },
  {
   "cell_type": "markdown",
   "metadata": {},
   "source": [
    "Iz skupa podataka vidimo da je na jednom pacijentu provedeno snimanje više puta. U deskriptivnoj analizi fokusirat ćemo se samo na prvo skeniranje svake osobe. Razlog tome je što nisu svi pacijenti podloženi skeniranju isti broj puta. Iz tog razloga vrijednosti značajka osobe koja je skeniranja npr. 4 puta imale bi veći doprinos u statističkim mjerama nego vrijednosti značajka osobe koja je podložena skeniranja samo jednom.\n",
    "\n",
    "Kod odabira modela imat ćemo na umu ovu selekciju."
   ]
  },
  {
   "cell_type": "code",
   "execution_count": 5,
   "metadata": {},
   "outputs": [],
   "source": [
    "X_firstScan = X.loc[X['MRI ID'].str.contains(\"_MR1\"), :]"
   ]
  },
  {
   "cell_type": "code",
   "execution_count": 6,
   "metadata": {},
   "outputs": [
    {
     "data": {
      "text/html": [
       "<div>\n",
       "<style scoped>\n",
       "    .dataframe tbody tr th:only-of-type {\n",
       "        vertical-align: middle;\n",
       "    }\n",
       "\n",
       "    .dataframe tbody tr th {\n",
       "        vertical-align: top;\n",
       "    }\n",
       "\n",
       "    .dataframe thead th {\n",
       "        text-align: right;\n",
       "    }\n",
       "</style>\n",
       "<table border=\"1\" class=\"dataframe\">\n",
       "  <thead>\n",
       "    <tr style=\"text-align: right;\">\n",
       "      <th></th>\n",
       "      <th>Visit</th>\n",
       "      <th>MR Delay</th>\n",
       "      <th>Age</th>\n",
       "      <th>EDUC</th>\n",
       "      <th>SES</th>\n",
       "      <th>MMSE</th>\n",
       "      <th>CDR</th>\n",
       "      <th>eTIV</th>\n",
       "      <th>nWBV</th>\n",
       "      <th>ASF</th>\n",
       "    </tr>\n",
       "  </thead>\n",
       "  <tbody>\n",
       "    <tr>\n",
       "      <th>count</th>\n",
       "      <td>150.0</td>\n",
       "      <td>150.0</td>\n",
       "      <td>150.000000</td>\n",
       "      <td>150.000000</td>\n",
       "      <td>142.000000</td>\n",
       "      <td>150.00000</td>\n",
       "      <td>150.000000</td>\n",
       "      <td>150.000000</td>\n",
       "      <td>150.000000</td>\n",
       "      <td>150.000000</td>\n",
       "    </tr>\n",
       "    <tr>\n",
       "      <th>mean</th>\n",
       "      <td>1.0</td>\n",
       "      <td>0.0</td>\n",
       "      <td>75.446667</td>\n",
       "      <td>14.533333</td>\n",
       "      <td>2.492958</td>\n",
       "      <td>27.56000</td>\n",
       "      <td>0.260000</td>\n",
       "      <td>1474.426667</td>\n",
       "      <td>0.736073</td>\n",
       "      <td>1.206333</td>\n",
       "    </tr>\n",
       "    <tr>\n",
       "      <th>std</th>\n",
       "      <td>0.0</td>\n",
       "      <td>0.0</td>\n",
       "      <td>7.545421</td>\n",
       "      <td>2.874714</td>\n",
       "      <td>1.128273</td>\n",
       "      <td>2.96847</td>\n",
       "      <td>0.326256</td>\n",
       "      <td>174.683889</td>\n",
       "      <td>0.036458</td>\n",
       "      <td>0.137864</td>\n",
       "    </tr>\n",
       "    <tr>\n",
       "      <th>min</th>\n",
       "      <td>1.0</td>\n",
       "      <td>0.0</td>\n",
       "      <td>60.000000</td>\n",
       "      <td>6.000000</td>\n",
       "      <td>1.000000</td>\n",
       "      <td>17.00000</td>\n",
       "      <td>0.000000</td>\n",
       "      <td>1123.000000</td>\n",
       "      <td>0.660000</td>\n",
       "      <td>0.883000</td>\n",
       "    </tr>\n",
       "    <tr>\n",
       "      <th>25%</th>\n",
       "      <td>1.0</td>\n",
       "      <td>0.0</td>\n",
       "      <td>70.000000</td>\n",
       "      <td>12.000000</td>\n",
       "      <td>2.000000</td>\n",
       "      <td>26.00000</td>\n",
       "      <td>0.000000</td>\n",
       "      <td>1347.250000</td>\n",
       "      <td>0.710000</td>\n",
       "      <td>1.121000</td>\n",
       "    </tr>\n",
       "    <tr>\n",
       "      <th>50%</th>\n",
       "      <td>1.0</td>\n",
       "      <td>0.0</td>\n",
       "      <td>75.000000</td>\n",
       "      <td>14.000000</td>\n",
       "      <td>2.000000</td>\n",
       "      <td>29.00000</td>\n",
       "      <td>0.000000</td>\n",
       "      <td>1453.500000</td>\n",
       "      <td>0.735000</td>\n",
       "      <td>1.207500</td>\n",
       "    </tr>\n",
       "    <tr>\n",
       "      <th>75%</th>\n",
       "      <td>1.0</td>\n",
       "      <td>0.0</td>\n",
       "      <td>80.000000</td>\n",
       "      <td>16.000000</td>\n",
       "      <td>3.000000</td>\n",
       "      <td>30.00000</td>\n",
       "      <td>0.500000</td>\n",
       "      <td>1565.250000</td>\n",
       "      <td>0.757750</td>\n",
       "      <td>1.302750</td>\n",
       "    </tr>\n",
       "    <tr>\n",
       "      <th>max</th>\n",
       "      <td>1.0</td>\n",
       "      <td>0.0</td>\n",
       "      <td>96.000000</td>\n",
       "      <td>23.000000</td>\n",
       "      <td>5.000000</td>\n",
       "      <td>30.00000</td>\n",
       "      <td>1.000000</td>\n",
       "      <td>1987.000000</td>\n",
       "      <td>0.837000</td>\n",
       "      <td>1.563000</td>\n",
       "    </tr>\n",
       "  </tbody>\n",
       "</table>\n",
       "</div>"
      ],
      "text/plain": [
       "       Visit  MR Delay         Age        EDUC         SES       MMSE  \\\n",
       "count  150.0     150.0  150.000000  150.000000  142.000000  150.00000   \n",
       "mean     1.0       0.0   75.446667   14.533333    2.492958   27.56000   \n",
       "std      0.0       0.0    7.545421    2.874714    1.128273    2.96847   \n",
       "min      1.0       0.0   60.000000    6.000000    1.000000   17.00000   \n",
       "25%      1.0       0.0   70.000000   12.000000    2.000000   26.00000   \n",
       "50%      1.0       0.0   75.000000   14.000000    2.000000   29.00000   \n",
       "75%      1.0       0.0   80.000000   16.000000    3.000000   30.00000   \n",
       "max      1.0       0.0   96.000000   23.000000    5.000000   30.00000   \n",
       "\n",
       "              CDR         eTIV        nWBV         ASF  \n",
       "count  150.000000   150.000000  150.000000  150.000000  \n",
       "mean     0.260000  1474.426667    0.736073    1.206333  \n",
       "std      0.326256   174.683889    0.036458    0.137864  \n",
       "min      0.000000  1123.000000    0.660000    0.883000  \n",
       "25%      0.000000  1347.250000    0.710000    1.121000  \n",
       "50%      0.000000  1453.500000    0.735000    1.207500  \n",
       "75%      0.500000  1565.250000    0.757750    1.302750  \n",
       "max      1.000000  1987.000000    0.837000    1.563000  "
      ]
     },
     "execution_count": 6,
     "metadata": {},
     "output_type": "execute_result"
    }
   ],
   "source": [
    "X_firstScan.describe()"
   ]
  },
  {
   "cell_type": "markdown",
   "metadata": {},
   "source": [
    "#### MONOTONI ATRIBUTI\n",
    "\n",
    "Pogledajmo postoje li u promatranom skupu podataka monotoni podaci."
   ]
  },
  {
   "cell_type": "code",
   "execution_count": 7,
   "metadata": {},
   "outputs": [
    {
     "data": {
      "text/plain": [
       "Subject ID    150\n",
       "MRI ID        150\n",
       "Group           3\n",
       "Visit           1\n",
       "MR Delay        1\n",
       "M/F             2\n",
       "Hand            1\n",
       "Age            34\n",
       "EDUC           12\n",
       "SES             5\n",
       "MMSE           13\n",
       "CDR             3\n",
       "eTIV          131\n",
       "nWBV           90\n",
       "ASF           129\n",
       "dtype: int64"
      ]
     },
     "execution_count": 7,
     "metadata": {},
     "output_type": "execute_result"
    }
   ],
   "source": [
    "X_firstScan.nunique()"
   ]
  },
  {
   "cell_type": "code",
   "execution_count": 8,
   "metadata": {},
   "outputs": [
    {
     "data": {
      "text/plain": [
       "0      OAS2_0001_MR1\n",
       "2      OAS2_0002_MR1\n",
       "5      OAS2_0004_MR1\n",
       "7      OAS2_0005_MR1\n",
       "10     OAS2_0007_MR1\n",
       "           ...      \n",
       "359    OAS2_0182_MR1\n",
       "361    OAS2_0183_MR1\n",
       "365    OAS2_0184_MR1\n",
       "367    OAS2_0185_MR1\n",
       "370    OAS2_0186_MR1\n",
       "Name: MRI ID, Length: 150, dtype: object"
      ]
     },
     "execution_count": 8,
     "metadata": {},
     "output_type": "execute_result"
    }
   ],
   "source": [
    "X_firstScan.loc[:, 'MRI ID']"
   ]
  },
  {
   "cell_type": "markdown",
   "metadata": {},
   "source": [
    "Vidimo da je značajka MRI ID monotona, no zbog lakšeg dohvaćanja potrebnih podataka kasnije ostavit ćemo ju u skupu podataka."
   ]
  },
  {
   "cell_type": "markdown",
   "metadata": {},
   "source": [
    "Primjećujemo da značajka Hand ima samo jednu vrijednost i to je R. To je u skladu s očekivanjima budući da je su podaci prikupljeni isključivo na dešnjacima. \n",
    "\n",
    "Također značajka Visit za sve primjere u skupu podataka X_firstScan ima vrijednost 1, a značajka MR Delay ima vrijednost 0. To također ima smisla jer smo napravili selekciju podataka na podatke iz prvih snimanja. Iz tog razloga ćemo i njih ukloniti iz skupa podataka\n",
    "\n",
    "Zbog navedenog značajku ćemo izbaciti iz skupa podataka.\n"
   ]
  },
  {
   "cell_type": "code",
   "execution_count": 9,
   "metadata": {},
   "outputs": [
    {
     "data": {
      "text/html": [
       "<div>\n",
       "<style scoped>\n",
       "    .dataframe tbody tr th:only-of-type {\n",
       "        vertical-align: middle;\n",
       "    }\n",
       "\n",
       "    .dataframe tbody tr th {\n",
       "        vertical-align: top;\n",
       "    }\n",
       "\n",
       "    .dataframe thead th {\n",
       "        text-align: right;\n",
       "    }\n",
       "</style>\n",
       "<table border=\"1\" class=\"dataframe\">\n",
       "  <thead>\n",
       "    <tr style=\"text-align: right;\">\n",
       "      <th></th>\n",
       "      <th>Subject ID</th>\n",
       "      <th>MRI ID</th>\n",
       "      <th>Group</th>\n",
       "      <th>M/F</th>\n",
       "      <th>Age</th>\n",
       "      <th>EDUC</th>\n",
       "      <th>SES</th>\n",
       "      <th>MMSE</th>\n",
       "      <th>CDR</th>\n",
       "      <th>eTIV</th>\n",
       "      <th>nWBV</th>\n",
       "      <th>ASF</th>\n",
       "    </tr>\n",
       "  </thead>\n",
       "  <tbody>\n",
       "    <tr>\n",
       "      <th>0</th>\n",
       "      <td>OAS2_0001</td>\n",
       "      <td>OAS2_0001_MR1</td>\n",
       "      <td>Nondemented</td>\n",
       "      <td>M</td>\n",
       "      <td>87</td>\n",
       "      <td>14</td>\n",
       "      <td>2.0</td>\n",
       "      <td>27.0</td>\n",
       "      <td>0.0</td>\n",
       "      <td>1987</td>\n",
       "      <td>0.696</td>\n",
       "      <td>0.883</td>\n",
       "    </tr>\n",
       "    <tr>\n",
       "      <th>2</th>\n",
       "      <td>OAS2_0002</td>\n",
       "      <td>OAS2_0002_MR1</td>\n",
       "      <td>Demented</td>\n",
       "      <td>M</td>\n",
       "      <td>75</td>\n",
       "      <td>12</td>\n",
       "      <td>NaN</td>\n",
       "      <td>23.0</td>\n",
       "      <td>0.5</td>\n",
       "      <td>1678</td>\n",
       "      <td>0.736</td>\n",
       "      <td>1.046</td>\n",
       "    </tr>\n",
       "    <tr>\n",
       "      <th>5</th>\n",
       "      <td>OAS2_0004</td>\n",
       "      <td>OAS2_0004_MR1</td>\n",
       "      <td>Nondemented</td>\n",
       "      <td>F</td>\n",
       "      <td>88</td>\n",
       "      <td>18</td>\n",
       "      <td>3.0</td>\n",
       "      <td>28.0</td>\n",
       "      <td>0.0</td>\n",
       "      <td>1215</td>\n",
       "      <td>0.710</td>\n",
       "      <td>1.444</td>\n",
       "    </tr>\n",
       "    <tr>\n",
       "      <th>7</th>\n",
       "      <td>OAS2_0005</td>\n",
       "      <td>OAS2_0005_MR1</td>\n",
       "      <td>Nondemented</td>\n",
       "      <td>M</td>\n",
       "      <td>80</td>\n",
       "      <td>12</td>\n",
       "      <td>4.0</td>\n",
       "      <td>28.0</td>\n",
       "      <td>0.0</td>\n",
       "      <td>1689</td>\n",
       "      <td>0.712</td>\n",
       "      <td>1.039</td>\n",
       "    </tr>\n",
       "    <tr>\n",
       "      <th>10</th>\n",
       "      <td>OAS2_0007</td>\n",
       "      <td>OAS2_0007_MR1</td>\n",
       "      <td>Demented</td>\n",
       "      <td>M</td>\n",
       "      <td>71</td>\n",
       "      <td>16</td>\n",
       "      <td>NaN</td>\n",
       "      <td>28.0</td>\n",
       "      <td>0.5</td>\n",
       "      <td>1357</td>\n",
       "      <td>0.748</td>\n",
       "      <td>1.293</td>\n",
       "    </tr>\n",
       "    <tr>\n",
       "      <th>...</th>\n",
       "      <td>...</td>\n",
       "      <td>...</td>\n",
       "      <td>...</td>\n",
       "      <td>...</td>\n",
       "      <td>...</td>\n",
       "      <td>...</td>\n",
       "      <td>...</td>\n",
       "      <td>...</td>\n",
       "      <td>...</td>\n",
       "      <td>...</td>\n",
       "      <td>...</td>\n",
       "      <td>...</td>\n",
       "    </tr>\n",
       "    <tr>\n",
       "      <th>359</th>\n",
       "      <td>OAS2_0182</td>\n",
       "      <td>OAS2_0182_MR1</td>\n",
       "      <td>Demented</td>\n",
       "      <td>M</td>\n",
       "      <td>73</td>\n",
       "      <td>12</td>\n",
       "      <td>NaN</td>\n",
       "      <td>23.0</td>\n",
       "      <td>0.5</td>\n",
       "      <td>1661</td>\n",
       "      <td>0.698</td>\n",
       "      <td>1.056</td>\n",
       "    </tr>\n",
       "    <tr>\n",
       "      <th>361</th>\n",
       "      <td>OAS2_0183</td>\n",
       "      <td>OAS2_0183_MR1</td>\n",
       "      <td>Nondemented</td>\n",
       "      <td>F</td>\n",
       "      <td>66</td>\n",
       "      <td>13</td>\n",
       "      <td>2.0</td>\n",
       "      <td>30.0</td>\n",
       "      <td>0.0</td>\n",
       "      <td>1495</td>\n",
       "      <td>0.746</td>\n",
       "      <td>1.174</td>\n",
       "    </tr>\n",
       "    <tr>\n",
       "      <th>365</th>\n",
       "      <td>OAS2_0184</td>\n",
       "      <td>OAS2_0184_MR1</td>\n",
       "      <td>Demented</td>\n",
       "      <td>F</td>\n",
       "      <td>72</td>\n",
       "      <td>16</td>\n",
       "      <td>3.0</td>\n",
       "      <td>24.0</td>\n",
       "      <td>0.5</td>\n",
       "      <td>1354</td>\n",
       "      <td>0.733</td>\n",
       "      <td>1.296</td>\n",
       "    </tr>\n",
       "    <tr>\n",
       "      <th>367</th>\n",
       "      <td>OAS2_0185</td>\n",
       "      <td>OAS2_0185_MR1</td>\n",
       "      <td>Demented</td>\n",
       "      <td>M</td>\n",
       "      <td>80</td>\n",
       "      <td>16</td>\n",
       "      <td>1.0</td>\n",
       "      <td>28.0</td>\n",
       "      <td>0.5</td>\n",
       "      <td>1704</td>\n",
       "      <td>0.711</td>\n",
       "      <td>1.030</td>\n",
       "    </tr>\n",
       "    <tr>\n",
       "      <th>370</th>\n",
       "      <td>OAS2_0186</td>\n",
       "      <td>OAS2_0186_MR1</td>\n",
       "      <td>Nondemented</td>\n",
       "      <td>F</td>\n",
       "      <td>61</td>\n",
       "      <td>13</td>\n",
       "      <td>2.0</td>\n",
       "      <td>30.0</td>\n",
       "      <td>0.0</td>\n",
       "      <td>1319</td>\n",
       "      <td>0.801</td>\n",
       "      <td>1.331</td>\n",
       "    </tr>\n",
       "  </tbody>\n",
       "</table>\n",
       "<p>150 rows × 12 columns</p>\n",
       "</div>"
      ],
      "text/plain": [
       "    Subject ID         MRI ID        Group M/F  Age  EDUC  SES  MMSE  CDR  \\\n",
       "0    OAS2_0001  OAS2_0001_MR1  Nondemented   M   87    14  2.0  27.0  0.0   \n",
       "2    OAS2_0002  OAS2_0002_MR1     Demented   M   75    12  NaN  23.0  0.5   \n",
       "5    OAS2_0004  OAS2_0004_MR1  Nondemented   F   88    18  3.0  28.0  0.0   \n",
       "7    OAS2_0005  OAS2_0005_MR1  Nondemented   M   80    12  4.0  28.0  0.0   \n",
       "10   OAS2_0007  OAS2_0007_MR1     Demented   M   71    16  NaN  28.0  0.5   \n",
       "..         ...            ...          ...  ..  ...   ...  ...   ...  ...   \n",
       "359  OAS2_0182  OAS2_0182_MR1     Demented   M   73    12  NaN  23.0  0.5   \n",
       "361  OAS2_0183  OAS2_0183_MR1  Nondemented   F   66    13  2.0  30.0  0.0   \n",
       "365  OAS2_0184  OAS2_0184_MR1     Demented   F   72    16  3.0  24.0  0.5   \n",
       "367  OAS2_0185  OAS2_0185_MR1     Demented   M   80    16  1.0  28.0  0.5   \n",
       "370  OAS2_0186  OAS2_0186_MR1  Nondemented   F   61    13  2.0  30.0  0.0   \n",
       "\n",
       "     eTIV   nWBV    ASF  \n",
       "0    1987  0.696  0.883  \n",
       "2    1678  0.736  1.046  \n",
       "5    1215  0.710  1.444  \n",
       "7    1689  0.712  1.039  \n",
       "10   1357  0.748  1.293  \n",
       "..    ...    ...    ...  \n",
       "359  1661  0.698  1.056  \n",
       "361  1495  0.746  1.174  \n",
       "365  1354  0.733  1.296  \n",
       "367  1704  0.711  1.030  \n",
       "370  1319  0.801  1.331  \n",
       "\n",
       "[150 rows x 12 columns]"
      ]
     },
     "execution_count": 9,
     "metadata": {},
     "output_type": "execute_result"
    }
   ],
   "source": [
    "X_firstScan = X_firstScan.drop(columns=['Hand', 'Visit', 'MR Delay'])\n",
    "X_firstScan"
   ]
  },
  {
   "cell_type": "markdown",
   "metadata": {},
   "source": [
    "#### NEDOSTAJEĆE VRIJEDNOSTI"
   ]
  },
  {
   "cell_type": "code",
   "execution_count": 10,
   "metadata": {},
   "outputs": [
    {
     "name": "stdout",
     "output_type": "stream",
     "text": [
      "<class 'pandas.core.frame.DataFrame'>\n",
      "Index: 150 entries, 0 to 370\n",
      "Data columns (total 12 columns):\n",
      " #   Column      Non-Null Count  Dtype  \n",
      "---  ------      --------------  -----  \n",
      " 0   Subject ID  150 non-null    object \n",
      " 1   MRI ID      150 non-null    object \n",
      " 2   Group       150 non-null    object \n",
      " 3   M/F         150 non-null    object \n",
      " 4   Age         150 non-null    int64  \n",
      " 5   EDUC        150 non-null    int64  \n",
      " 6   SES         142 non-null    float64\n",
      " 7   MMSE        150 non-null    float64\n",
      " 8   CDR         150 non-null    float64\n",
      " 9   eTIV        150 non-null    int64  \n",
      " 10  nWBV        150 non-null    float64\n",
      " 11  ASF         150 non-null    float64\n",
      "dtypes: float64(5), int64(3), object(4)\n",
      "memory usage: 15.2+ KB\n"
     ]
    },
    {
     "data": {
      "text/plain": [
       "Subject ID    0\n",
       "MRI ID        0\n",
       "Group         0\n",
       "M/F           0\n",
       "Age           0\n",
       "EDUC          0\n",
       "SES           8\n",
       "MMSE          0\n",
       "CDR           0\n",
       "eTIV          0\n",
       "nWBV          0\n",
       "ASF           0\n",
       "dtype: int64"
      ]
     },
     "execution_count": 10,
     "metadata": {},
     "output_type": "execute_result"
    }
   ],
   "source": [
    "X_firstScan.info()\n",
    "X_firstScan.isna().sum()"
   ]
  },
  {
   "cell_type": "markdown",
   "metadata": {},
   "source": [
    "Iz gornjeg ispisa vidljivo je da većina vrijednosti nije nedostajuća. Međutim kod značajke SES vidimo da postoje 8 nedostajuća zapisa. Govoreći u terminima postotaka možemo reći da značajka SES ima 5.33% nedostajećih vrijednosti.\n",
    "\n",
    "Pogledajmo detaljnije te zapise."
   ]
  },
  {
   "cell_type": "code",
   "execution_count": 11,
   "metadata": {},
   "outputs": [
    {
     "data": {
      "text/html": [
       "<div>\n",
       "<style scoped>\n",
       "    .dataframe tbody tr th:only-of-type {\n",
       "        vertical-align: middle;\n",
       "    }\n",
       "\n",
       "    .dataframe tbody tr th {\n",
       "        vertical-align: top;\n",
       "    }\n",
       "\n",
       "    .dataframe thead th {\n",
       "        text-align: right;\n",
       "    }\n",
       "</style>\n",
       "<table border=\"1\" class=\"dataframe\">\n",
       "  <thead>\n",
       "    <tr style=\"text-align: right;\">\n",
       "      <th></th>\n",
       "      <th>Subject ID</th>\n",
       "      <th>MRI ID</th>\n",
       "      <th>Group</th>\n",
       "      <th>M/F</th>\n",
       "      <th>Age</th>\n",
       "      <th>EDUC</th>\n",
       "      <th>SES</th>\n",
       "      <th>MMSE</th>\n",
       "      <th>CDR</th>\n",
       "      <th>eTIV</th>\n",
       "      <th>nWBV</th>\n",
       "      <th>ASF</th>\n",
       "    </tr>\n",
       "  </thead>\n",
       "  <tbody>\n",
       "    <tr>\n",
       "      <th>2</th>\n",
       "      <td>OAS2_0002</td>\n",
       "      <td>OAS2_0002_MR1</td>\n",
       "      <td>Demented</td>\n",
       "      <td>M</td>\n",
       "      <td>75</td>\n",
       "      <td>12</td>\n",
       "      <td>NaN</td>\n",
       "      <td>23.0</td>\n",
       "      <td>0.5</td>\n",
       "      <td>1678</td>\n",
       "      <td>0.736</td>\n",
       "      <td>1.046</td>\n",
       "    </tr>\n",
       "    <tr>\n",
       "      <th>10</th>\n",
       "      <td>OAS2_0007</td>\n",
       "      <td>OAS2_0007_MR1</td>\n",
       "      <td>Demented</td>\n",
       "      <td>M</td>\n",
       "      <td>71</td>\n",
       "      <td>16</td>\n",
       "      <td>NaN</td>\n",
       "      <td>28.0</td>\n",
       "      <td>0.5</td>\n",
       "      <td>1357</td>\n",
       "      <td>0.748</td>\n",
       "      <td>1.293</td>\n",
       "    </tr>\n",
       "    <tr>\n",
       "      <th>134</th>\n",
       "      <td>OAS2_0063</td>\n",
       "      <td>OAS2_0063_MR1</td>\n",
       "      <td>Demented</td>\n",
       "      <td>F</td>\n",
       "      <td>80</td>\n",
       "      <td>12</td>\n",
       "      <td>NaN</td>\n",
       "      <td>30.0</td>\n",
       "      <td>0.5</td>\n",
       "      <td>1430</td>\n",
       "      <td>0.737</td>\n",
       "      <td>1.228</td>\n",
       "    </tr>\n",
       "    <tr>\n",
       "      <th>207</th>\n",
       "      <td>OAS2_0099</td>\n",
       "      <td>OAS2_0099_MR1</td>\n",
       "      <td>Demented</td>\n",
       "      <td>F</td>\n",
       "      <td>80</td>\n",
       "      <td>12</td>\n",
       "      <td>NaN</td>\n",
       "      <td>27.0</td>\n",
       "      <td>0.5</td>\n",
       "      <td>1475</td>\n",
       "      <td>0.762</td>\n",
       "      <td>1.190</td>\n",
       "    </tr>\n",
       "    <tr>\n",
       "      <th>237</th>\n",
       "      <td>OAS2_0114</td>\n",
       "      <td>OAS2_0114_MR1</td>\n",
       "      <td>Demented</td>\n",
       "      <td>F</td>\n",
       "      <td>76</td>\n",
       "      <td>12</td>\n",
       "      <td>NaN</td>\n",
       "      <td>27.0</td>\n",
       "      <td>0.5</td>\n",
       "      <td>1316</td>\n",
       "      <td>0.727</td>\n",
       "      <td>1.333</td>\n",
       "    </tr>\n",
       "    <tr>\n",
       "      <th>322</th>\n",
       "      <td>OAS2_0160</td>\n",
       "      <td>OAS2_0160_MR1</td>\n",
       "      <td>Demented</td>\n",
       "      <td>M</td>\n",
       "      <td>76</td>\n",
       "      <td>12</td>\n",
       "      <td>NaN</td>\n",
       "      <td>27.0</td>\n",
       "      <td>0.5</td>\n",
       "      <td>1557</td>\n",
       "      <td>0.705</td>\n",
       "      <td>1.127</td>\n",
       "    </tr>\n",
       "    <tr>\n",
       "      <th>356</th>\n",
       "      <td>OAS2_0181</td>\n",
       "      <td>OAS2_0181_MR1</td>\n",
       "      <td>Demented</td>\n",
       "      <td>F</td>\n",
       "      <td>74</td>\n",
       "      <td>12</td>\n",
       "      <td>NaN</td>\n",
       "      <td>26.0</td>\n",
       "      <td>0.5</td>\n",
       "      <td>1171</td>\n",
       "      <td>0.733</td>\n",
       "      <td>1.499</td>\n",
       "    </tr>\n",
       "    <tr>\n",
       "      <th>359</th>\n",
       "      <td>OAS2_0182</td>\n",
       "      <td>OAS2_0182_MR1</td>\n",
       "      <td>Demented</td>\n",
       "      <td>M</td>\n",
       "      <td>73</td>\n",
       "      <td>12</td>\n",
       "      <td>NaN</td>\n",
       "      <td>23.0</td>\n",
       "      <td>0.5</td>\n",
       "      <td>1661</td>\n",
       "      <td>0.698</td>\n",
       "      <td>1.056</td>\n",
       "    </tr>\n",
       "  </tbody>\n",
       "</table>\n",
       "</div>"
      ],
      "text/plain": [
       "    Subject ID         MRI ID     Group M/F  Age  EDUC  SES  MMSE  CDR  eTIV  \\\n",
       "2    OAS2_0002  OAS2_0002_MR1  Demented   M   75    12  NaN  23.0  0.5  1678   \n",
       "10   OAS2_0007  OAS2_0007_MR1  Demented   M   71    16  NaN  28.0  0.5  1357   \n",
       "134  OAS2_0063  OAS2_0063_MR1  Demented   F   80    12  NaN  30.0  0.5  1430   \n",
       "207  OAS2_0099  OAS2_0099_MR1  Demented   F   80    12  NaN  27.0  0.5  1475   \n",
       "237  OAS2_0114  OAS2_0114_MR1  Demented   F   76    12  NaN  27.0  0.5  1316   \n",
       "322  OAS2_0160  OAS2_0160_MR1  Demented   M   76    12  NaN  27.0  0.5  1557   \n",
       "356  OAS2_0181  OAS2_0181_MR1  Demented   F   74    12  NaN  26.0  0.5  1171   \n",
       "359  OAS2_0182  OAS2_0182_MR1  Demented   M   73    12  NaN  23.0  0.5  1661   \n",
       "\n",
       "      nWBV    ASF  \n",
       "2    0.736  1.046  \n",
       "10   0.748  1.293  \n",
       "134  0.737  1.228  \n",
       "207  0.762  1.190  \n",
       "237  0.727  1.333  \n",
       "322  0.705  1.127  \n",
       "356  0.733  1.499  \n",
       "359  0.698  1.056  "
      ]
     },
     "execution_count": 11,
     "metadata": {},
     "output_type": "execute_result"
    }
   ],
   "source": [
    "X_firstScan.loc[X_firstScan.SES.isna(), :]"
   ]
  },
  {
   "cell_type": "markdown",
   "metadata": {},
   "source": [
    "Opećnito govoreći problem nedostajećih podataka moguće je rješiti:\n",
    "- interpolacijom - na ovaj problem sa značajkama MMSE i SES nema nekog smisla primjeniti\n",
    "- izbacivanje cijele značajke - također u ovoj primjeni nema smisla jer relativno malo primjera ima nedostajeću vrijednost\n",
    "- nadopunjavanje nedostajećih vrijednosti srednjom vrijednošću \n",
    "- izbacivanje zapisa \n"
   ]
  },
  {
   "cell_type": "markdown",
   "metadata": {},
   "source": [
    "Prije nego rješimo problem nedostajućih podataka pogledajmo korelaciju značajki. Kako bismo napravili korelacijsku matricu najprije je potrebno pretvoriti kategoričke varijable u numeričke."
   ]
  },
  {
   "cell_type": "markdown",
   "metadata": {},
   "source": [
    "#### PRETVORTBA KATEGORIČKIH VARIJABLI"
   ]
  },
  {
   "cell_type": "markdown",
   "metadata": {},
   "source": [
    "S obzirom da iz istraživačkog rada nije baš jasno koja značajka je korištena kao oznaka primjera, mi ćemo s obzirom na grafičke prikaze u radu i nedostatak interpretacije oznake \"Converted\" osloniti na značajku CDR - Clinical Dementia Rating. Pomoću te značajke konstruirat ćemo zanačajku Custom Group koja će imati vrijednost 0 s interpretacijom \"Nondemented\" za slučajeve gdje je vrijednost CDR 0, a za slučajeve gdje je CDR veći od 0 vrijednost Custom Group bit će 1 s interpretacijom da je ispitanik pripadnik grupe \"Demented\". \n",
    "\n",
    "**Custom Group**:\n",
    "- 0 => \"Nondemented\"\n",
    "- 1 => \"Demented\"\n",
    "\n",
    "\n",
    "Osim toga kategoričku varijablu M/F ćemo pomoću LabelEncodera preslikati na sljedeći način:\n",
    "- M => 1\n",
    "- F => 0"
   ]
  },
  {
   "cell_type": "code",
   "execution_count": 12,
   "metadata": {},
   "outputs": [
    {
     "data": {
      "text/html": [
       "<div>\n",
       "<style scoped>\n",
       "    .dataframe tbody tr th:only-of-type {\n",
       "        vertical-align: middle;\n",
       "    }\n",
       "\n",
       "    .dataframe tbody tr th {\n",
       "        vertical-align: top;\n",
       "    }\n",
       "\n",
       "    .dataframe thead th {\n",
       "        text-align: right;\n",
       "    }\n",
       "</style>\n",
       "<table border=\"1\" class=\"dataframe\">\n",
       "  <thead>\n",
       "    <tr style=\"text-align: right;\">\n",
       "      <th></th>\n",
       "      <th>Subject ID</th>\n",
       "      <th>MRI ID</th>\n",
       "      <th>Group</th>\n",
       "      <th>M/F</th>\n",
       "      <th>Age</th>\n",
       "      <th>EDUC</th>\n",
       "      <th>SES</th>\n",
       "      <th>MMSE</th>\n",
       "      <th>CDR</th>\n",
       "      <th>eTIV</th>\n",
       "      <th>nWBV</th>\n",
       "      <th>ASF</th>\n",
       "      <th>Custom Group</th>\n",
       "    </tr>\n",
       "  </thead>\n",
       "  <tbody>\n",
       "    <tr>\n",
       "      <th>0</th>\n",
       "      <td>OAS2_0001</td>\n",
       "      <td>OAS2_0001_MR1</td>\n",
       "      <td>Nondemented</td>\n",
       "      <td>1</td>\n",
       "      <td>87</td>\n",
       "      <td>14</td>\n",
       "      <td>2.0</td>\n",
       "      <td>27.0</td>\n",
       "      <td>0.0</td>\n",
       "      <td>1987</td>\n",
       "      <td>0.696</td>\n",
       "      <td>0.883</td>\n",
       "      <td>0.0</td>\n",
       "    </tr>\n",
       "    <tr>\n",
       "      <th>2</th>\n",
       "      <td>OAS2_0002</td>\n",
       "      <td>OAS2_0002_MR1</td>\n",
       "      <td>Demented</td>\n",
       "      <td>1</td>\n",
       "      <td>75</td>\n",
       "      <td>12</td>\n",
       "      <td>NaN</td>\n",
       "      <td>23.0</td>\n",
       "      <td>0.5</td>\n",
       "      <td>1678</td>\n",
       "      <td>0.736</td>\n",
       "      <td>1.046</td>\n",
       "      <td>1.0</td>\n",
       "    </tr>\n",
       "    <tr>\n",
       "      <th>5</th>\n",
       "      <td>OAS2_0004</td>\n",
       "      <td>OAS2_0004_MR1</td>\n",
       "      <td>Nondemented</td>\n",
       "      <td>0</td>\n",
       "      <td>88</td>\n",
       "      <td>18</td>\n",
       "      <td>3.0</td>\n",
       "      <td>28.0</td>\n",
       "      <td>0.0</td>\n",
       "      <td>1215</td>\n",
       "      <td>0.710</td>\n",
       "      <td>1.444</td>\n",
       "      <td>0.0</td>\n",
       "    </tr>\n",
       "    <tr>\n",
       "      <th>7</th>\n",
       "      <td>OAS2_0005</td>\n",
       "      <td>OAS2_0005_MR1</td>\n",
       "      <td>Nondemented</td>\n",
       "      <td>1</td>\n",
       "      <td>80</td>\n",
       "      <td>12</td>\n",
       "      <td>4.0</td>\n",
       "      <td>28.0</td>\n",
       "      <td>0.0</td>\n",
       "      <td>1689</td>\n",
       "      <td>0.712</td>\n",
       "      <td>1.039</td>\n",
       "      <td>0.0</td>\n",
       "    </tr>\n",
       "    <tr>\n",
       "      <th>10</th>\n",
       "      <td>OAS2_0007</td>\n",
       "      <td>OAS2_0007_MR1</td>\n",
       "      <td>Demented</td>\n",
       "      <td>1</td>\n",
       "      <td>71</td>\n",
       "      <td>16</td>\n",
       "      <td>NaN</td>\n",
       "      <td>28.0</td>\n",
       "      <td>0.5</td>\n",
       "      <td>1357</td>\n",
       "      <td>0.748</td>\n",
       "      <td>1.293</td>\n",
       "      <td>1.0</td>\n",
       "    </tr>\n",
       "    <tr>\n",
       "      <th>13</th>\n",
       "      <td>OAS2_0008</td>\n",
       "      <td>OAS2_0008_MR1</td>\n",
       "      <td>Nondemented</td>\n",
       "      <td>0</td>\n",
       "      <td>93</td>\n",
       "      <td>14</td>\n",
       "      <td>2.0</td>\n",
       "      <td>30.0</td>\n",
       "      <td>0.0</td>\n",
       "      <td>1272</td>\n",
       "      <td>0.698</td>\n",
       "      <td>1.380</td>\n",
       "      <td>0.0</td>\n",
       "    </tr>\n",
       "    <tr>\n",
       "      <th>15</th>\n",
       "      <td>OAS2_0009</td>\n",
       "      <td>OAS2_0009_MR1</td>\n",
       "      <td>Demented</td>\n",
       "      <td>1</td>\n",
       "      <td>68</td>\n",
       "      <td>12</td>\n",
       "      <td>2.0</td>\n",
       "      <td>27.0</td>\n",
       "      <td>0.5</td>\n",
       "      <td>1457</td>\n",
       "      <td>0.806</td>\n",
       "      <td>1.205</td>\n",
       "      <td>1.0</td>\n",
       "    </tr>\n",
       "    <tr>\n",
       "      <th>17</th>\n",
       "      <td>OAS2_0010</td>\n",
       "      <td>OAS2_0010_MR1</td>\n",
       "      <td>Demented</td>\n",
       "      <td>0</td>\n",
       "      <td>66</td>\n",
       "      <td>12</td>\n",
       "      <td>3.0</td>\n",
       "      <td>30.0</td>\n",
       "      <td>0.5</td>\n",
       "      <td>1447</td>\n",
       "      <td>0.769</td>\n",
       "      <td>1.213</td>\n",
       "      <td>1.0</td>\n",
       "    </tr>\n",
       "    <tr>\n",
       "      <th>19</th>\n",
       "      <td>OAS2_0012</td>\n",
       "      <td>OAS2_0012_MR1</td>\n",
       "      <td>Nondemented</td>\n",
       "      <td>0</td>\n",
       "      <td>78</td>\n",
       "      <td>16</td>\n",
       "      <td>2.0</td>\n",
       "      <td>29.0</td>\n",
       "      <td>0.0</td>\n",
       "      <td>1333</td>\n",
       "      <td>0.748</td>\n",
       "      <td>1.316</td>\n",
       "      <td>0.0</td>\n",
       "    </tr>\n",
       "    <tr>\n",
       "      <th>22</th>\n",
       "      <td>OAS2_0013</td>\n",
       "      <td>OAS2_0013_MR1</td>\n",
       "      <td>Nondemented</td>\n",
       "      <td>0</td>\n",
       "      <td>81</td>\n",
       "      <td>12</td>\n",
       "      <td>4.0</td>\n",
       "      <td>30.0</td>\n",
       "      <td>0.0</td>\n",
       "      <td>1230</td>\n",
       "      <td>0.715</td>\n",
       "      <td>1.427</td>\n",
       "      <td>0.0</td>\n",
       "    </tr>\n",
       "  </tbody>\n",
       "</table>\n",
       "</div>"
      ],
      "text/plain": [
       "   Subject ID         MRI ID        Group M/F  Age  EDUC  SES  MMSE  CDR  \\\n",
       "0   OAS2_0001  OAS2_0001_MR1  Nondemented   1   87    14  2.0  27.0  0.0   \n",
       "2   OAS2_0002  OAS2_0002_MR1     Demented   1   75    12  NaN  23.0  0.5   \n",
       "5   OAS2_0004  OAS2_0004_MR1  Nondemented   0   88    18  3.0  28.0  0.0   \n",
       "7   OAS2_0005  OAS2_0005_MR1  Nondemented   1   80    12  4.0  28.0  0.0   \n",
       "10  OAS2_0007  OAS2_0007_MR1     Demented   1   71    16  NaN  28.0  0.5   \n",
       "13  OAS2_0008  OAS2_0008_MR1  Nondemented   0   93    14  2.0  30.0  0.0   \n",
       "15  OAS2_0009  OAS2_0009_MR1     Demented   1   68    12  2.0  27.0  0.5   \n",
       "17  OAS2_0010  OAS2_0010_MR1     Demented   0   66    12  3.0  30.0  0.5   \n",
       "19  OAS2_0012  OAS2_0012_MR1  Nondemented   0   78    16  2.0  29.0  0.0   \n",
       "22  OAS2_0013  OAS2_0013_MR1  Nondemented   0   81    12  4.0  30.0  0.0   \n",
       "\n",
       "    eTIV   nWBV    ASF  Custom Group  \n",
       "0   1987  0.696  0.883           0.0  \n",
       "2   1678  0.736  1.046           1.0  \n",
       "5   1215  0.710  1.444           0.0  \n",
       "7   1689  0.712  1.039           0.0  \n",
       "10  1357  0.748  1.293           1.0  \n",
       "13  1272  0.698  1.380           0.0  \n",
       "15  1457  0.806  1.205           1.0  \n",
       "17  1447  0.769  1.213           1.0  \n",
       "19  1333  0.748  1.316           0.0  \n",
       "22  1230  0.715  1.427           0.0  "
      ]
     },
     "execution_count": 12,
     "metadata": {},
     "output_type": "execute_result"
    }
   ],
   "source": [
    "from sklearn.preprocessing import OneHotEncoder, LabelEncoder\n",
    "\n",
    "X_preprocessed = X_firstScan.copy()\n",
    "\n",
    "# Transforming M/F variable\n",
    "leMF = LabelEncoder()\n",
    "leMF.fit(X_preprocessed.loc[:, 'M/F'])\n",
    "X_preprocessed.loc[:, 'M/F'] = leMF.transform(X_preprocessed.loc[:, 'M/F'])\n",
    "\n",
    "# Creating Custom Group \n",
    "X_preprocessed.loc[X_preprocessed['CDR'] == 0, 'Custom Group'] = 0\n",
    "X_preprocessed.loc[X_preprocessed['CDR'] > 0, 'Custom Group'] = 1\n",
    "\n",
    "\n",
    "X_preprocessed.head(10)"
   ]
  },
  {
   "cell_type": "markdown",
   "metadata": {},
   "source": [
    "#### KORELACIJA ZNAČAJKI"
   ]
  },
  {
   "cell_type": "code",
   "execution_count": 13,
   "metadata": {},
   "outputs": [
    {
     "data": {
      "text/html": [
       "<div>\n",
       "<style scoped>\n",
       "    .dataframe tbody tr th:only-of-type {\n",
       "        vertical-align: middle;\n",
       "    }\n",
       "\n",
       "    .dataframe tbody tr th {\n",
       "        vertical-align: top;\n",
       "    }\n",
       "\n",
       "    .dataframe thead th {\n",
       "        text-align: right;\n",
       "    }\n",
       "</style>\n",
       "<table border=\"1\" class=\"dataframe\">\n",
       "  <thead>\n",
       "    <tr style=\"text-align: right;\">\n",
       "      <th></th>\n",
       "      <th>M/F</th>\n",
       "      <th>Age</th>\n",
       "      <th>EDUC</th>\n",
       "      <th>SES</th>\n",
       "      <th>MMSE</th>\n",
       "      <th>CDR</th>\n",
       "      <th>eTIV</th>\n",
       "      <th>nWBV</th>\n",
       "      <th>ASF</th>\n",
       "      <th>Custom Group</th>\n",
       "    </tr>\n",
       "  </thead>\n",
       "  <tbody>\n",
       "    <tr>\n",
       "      <th>M/F</th>\n",
       "      <td>1.000000</td>\n",
       "      <td>-0.046478</td>\n",
       "      <td>0.072102</td>\n",
       "      <td>-0.030847</td>\n",
       "      <td>-0.225423</td>\n",
       "      <td>0.229319</td>\n",
       "      <td>0.561861</td>\n",
       "      <td>-0.258450</td>\n",
       "      <td>-0.561395</td>\n",
       "      <td>0.249527</td>\n",
       "    </tr>\n",
       "    <tr>\n",
       "      <th>Age</th>\n",
       "      <td>-0.046478</td>\n",
       "      <td>1.000000</td>\n",
       "      <td>-0.085020</td>\n",
       "      <td>-0.014618</td>\n",
       "      <td>-0.125723</td>\n",
       "      <td>-0.050511</td>\n",
       "      <td>0.003393</td>\n",
       "      <td>-0.519069</td>\n",
       "      <td>-0.003488</td>\n",
       "      <td>-0.058006</td>\n",
       "    </tr>\n",
       "    <tr>\n",
       "      <th>EDUC</th>\n",
       "      <td>0.072102</td>\n",
       "      <td>-0.085020</td>\n",
       "      <td>1.000000</td>\n",
       "      <td>-0.722816</td>\n",
       "      <td>0.218558</td>\n",
       "      <td>-0.256270</td>\n",
       "      <td>0.202569</td>\n",
       "      <td>0.053676</td>\n",
       "      <td>-0.202476</td>\n",
       "      <td>-0.272812</td>\n",
       "    </tr>\n",
       "    <tr>\n",
       "      <th>SES</th>\n",
       "      <td>-0.030847</td>\n",
       "      <td>-0.014618</td>\n",
       "      <td>-0.722816</td>\n",
       "      <td>1.000000</td>\n",
       "      <td>-0.155127</td>\n",
       "      <td>0.154846</td>\n",
       "      <td>-0.233015</td>\n",
       "      <td>0.039951</td>\n",
       "      <td>0.233065</td>\n",
       "      <td>0.174203</td>\n",
       "    </tr>\n",
       "    <tr>\n",
       "      <th>MMSE</th>\n",
       "      <td>-0.225423</td>\n",
       "      <td>-0.125723</td>\n",
       "      <td>0.218558</td>\n",
       "      <td>-0.155127</td>\n",
       "      <td>1.000000</td>\n",
       "      <td>-0.643701</td>\n",
       "      <td>-0.101386</td>\n",
       "      <td>0.293664</td>\n",
       "      <td>0.101548</td>\n",
       "      <td>-0.624269</td>\n",
       "    </tr>\n",
       "    <tr>\n",
       "      <th>CDR</th>\n",
       "      <td>0.229319</td>\n",
       "      <td>-0.050511</td>\n",
       "      <td>-0.256270</td>\n",
       "      <td>0.154846</td>\n",
       "      <td>-0.643701</td>\n",
       "      <td>1.000000</td>\n",
       "      <td>0.025866</td>\n",
       "      <td>-0.293402</td>\n",
       "      <td>-0.025793</td>\n",
       "      <td>0.974500</td>\n",
       "    </tr>\n",
       "    <tr>\n",
       "      <th>eTIV</th>\n",
       "      <td>0.561861</td>\n",
       "      <td>0.003393</td>\n",
       "      <td>0.202569</td>\n",
       "      <td>-0.233015</td>\n",
       "      <td>-0.101386</td>\n",
       "      <td>0.025866</td>\n",
       "      <td>1.000000</td>\n",
       "      <td>-0.175898</td>\n",
       "      <td>-0.999986</td>\n",
       "      <td>0.007612</td>\n",
       "    </tr>\n",
       "    <tr>\n",
       "      <th>nWBV</th>\n",
       "      <td>-0.258450</td>\n",
       "      <td>-0.519069</td>\n",
       "      <td>0.053676</td>\n",
       "      <td>0.039951</td>\n",
       "      <td>0.293664</td>\n",
       "      <td>-0.293402</td>\n",
       "      <td>-0.175898</td>\n",
       "      <td>1.000000</td>\n",
       "      <td>0.176248</td>\n",
       "      <td>-0.260871</td>\n",
       "    </tr>\n",
       "    <tr>\n",
       "      <th>ASF</th>\n",
       "      <td>-0.561395</td>\n",
       "      <td>-0.003488</td>\n",
       "      <td>-0.202476</td>\n",
       "      <td>0.233065</td>\n",
       "      <td>0.101548</td>\n",
       "      <td>-0.025793</td>\n",
       "      <td>-0.999986</td>\n",
       "      <td>0.176248</td>\n",
       "      <td>1.000000</td>\n",
       "      <td>-0.007457</td>\n",
       "    </tr>\n",
       "    <tr>\n",
       "      <th>Custom Group</th>\n",
       "      <td>0.249527</td>\n",
       "      <td>-0.058006</td>\n",
       "      <td>-0.272812</td>\n",
       "      <td>0.174203</td>\n",
       "      <td>-0.624269</td>\n",
       "      <td>0.974500</td>\n",
       "      <td>0.007612</td>\n",
       "      <td>-0.260871</td>\n",
       "      <td>-0.007457</td>\n",
       "      <td>1.000000</td>\n",
       "    </tr>\n",
       "  </tbody>\n",
       "</table>\n",
       "</div>"
      ],
      "text/plain": [
       "                   M/F       Age      EDUC       SES      MMSE       CDR  \\\n",
       "M/F           1.000000 -0.046478  0.072102 -0.030847 -0.225423  0.229319   \n",
       "Age          -0.046478  1.000000 -0.085020 -0.014618 -0.125723 -0.050511   \n",
       "EDUC          0.072102 -0.085020  1.000000 -0.722816  0.218558 -0.256270   \n",
       "SES          -0.030847 -0.014618 -0.722816  1.000000 -0.155127  0.154846   \n",
       "MMSE         -0.225423 -0.125723  0.218558 -0.155127  1.000000 -0.643701   \n",
       "CDR           0.229319 -0.050511 -0.256270  0.154846 -0.643701  1.000000   \n",
       "eTIV          0.561861  0.003393  0.202569 -0.233015 -0.101386  0.025866   \n",
       "nWBV         -0.258450 -0.519069  0.053676  0.039951  0.293664 -0.293402   \n",
       "ASF          -0.561395 -0.003488 -0.202476  0.233065  0.101548 -0.025793   \n",
       "Custom Group  0.249527 -0.058006 -0.272812  0.174203 -0.624269  0.974500   \n",
       "\n",
       "                  eTIV      nWBV       ASF  Custom Group  \n",
       "M/F           0.561861 -0.258450 -0.561395      0.249527  \n",
       "Age           0.003393 -0.519069 -0.003488     -0.058006  \n",
       "EDUC          0.202569  0.053676 -0.202476     -0.272812  \n",
       "SES          -0.233015  0.039951  0.233065      0.174203  \n",
       "MMSE         -0.101386  0.293664  0.101548     -0.624269  \n",
       "CDR           0.025866 -0.293402 -0.025793      0.974500  \n",
       "eTIV          1.000000 -0.175898 -0.999986      0.007612  \n",
       "nWBV         -0.175898  1.000000  0.176248     -0.260871  \n",
       "ASF          -0.999986  0.176248  1.000000     -0.007457  \n",
       "Custom Group  0.007612 -0.260871 -0.007457      1.000000  "
      ]
     },
     "execution_count": 13,
     "metadata": {},
     "output_type": "execute_result"
    }
   ],
   "source": [
    "X_preprocessed.loc[:, ~X_preprocessed.columns.isin([\"Subject ID\", \"MRI ID\",\"Group\", \"Visit\", \"MR Delay\"])].corr(method='spearman')"
   ]
  },
  {
   "cell_type": "markdown",
   "metadata": {},
   "source": [
    "Iz prikazane matrice korelacije vidljivo je da su jako korelirani sljedeći parovi značajki:\n",
    "- SES i EDUC\n",
    "- ASF i eTIV\n",
    "\n",
    "Korelacija između socioekonomskog statusa i obrazovanja nekako proizlazi iz stvarnog svijeta. Logično je da će obrazovanija osoba biti većeg socioekonomskog statusa.\n",
    "\n",
    "Korelacija između značajki ASF i eTIV proizlazi iz činjenice da se ASF vrijednost računa iz eTIV vrijednosti.  \n",
    "\n",
    "Ove značajke zasad neće biti uklonjene iz skupa podataka, no kod odabira i treniranja modela strojnog učenja treba imati na umu da su ovi parovi značajka međusobno korelirani."
   ]
  },
  {
   "cell_type": "markdown",
   "metadata": {},
   "source": [
    "#### STRŠEĆI PODACI - nadopunjavanje srednjom vrijednošću"
   ]
  },
  {
   "cell_type": "markdown",
   "metadata": {},
   "source": [
    "Iz gornje matrice vidljivo je da su značajke SES i EDUC snažno korelirane. Iz tog razloga nedostajuće vrijednosti značajke SES nadopuniti srednjom vrijednošću podataka, ali grupiranih prema značajki EDUC"
   ]
  },
  {
   "cell_type": "markdown",
   "metadata": {},
   "source": [
    "**Napomena** : Iz gornjeg ispisa nedostajućih vrijednosti zaključujemo da je dovoljno vidjeti koje su srednje vrijednosti za grupe sa vrijednostima značajke EDUC 12 i 16."
   ]
  },
  {
   "cell_type": "markdown",
   "metadata": {},
   "source": [
    "**Napomena**: Kako je SES kategorička varijabla računat ćemo medijan."
   ]
  },
  {
   "cell_type": "code",
   "execution_count": 14,
   "metadata": {},
   "outputs": [
    {
     "data": {
      "text/html": [
       "<div>\n",
       "<style scoped>\n",
       "    .dataframe tbody tr th:only-of-type {\n",
       "        vertical-align: middle;\n",
       "    }\n",
       "\n",
       "    .dataframe tbody tr th {\n",
       "        vertical-align: top;\n",
       "    }\n",
       "\n",
       "    .dataframe thead th {\n",
       "        text-align: right;\n",
       "    }\n",
       "</style>\n",
       "<table border=\"1\" class=\"dataframe\">\n",
       "  <thead>\n",
       "    <tr style=\"text-align: right;\">\n",
       "      <th></th>\n",
       "      <th>EDUC</th>\n",
       "      <th>SES</th>\n",
       "    </tr>\n",
       "  </thead>\n",
       "  <tbody>\n",
       "    <tr>\n",
       "      <th>0</th>\n",
       "      <td>6</td>\n",
       "      <td>4.0</td>\n",
       "    </tr>\n",
       "    <tr>\n",
       "      <th>1</th>\n",
       "      <td>8</td>\n",
       "      <td>5.0</td>\n",
       "    </tr>\n",
       "    <tr>\n",
       "      <th>2</th>\n",
       "      <td>11</td>\n",
       "      <td>4.0</td>\n",
       "    </tr>\n",
       "    <tr>\n",
       "      <th>3</th>\n",
       "      <td>12</td>\n",
       "      <td>3.0</td>\n",
       "    </tr>\n",
       "    <tr>\n",
       "      <th>4</th>\n",
       "      <td>13</td>\n",
       "      <td>2.0</td>\n",
       "    </tr>\n",
       "    <tr>\n",
       "      <th>5</th>\n",
       "      <td>14</td>\n",
       "      <td>3.0</td>\n",
       "    </tr>\n",
       "    <tr>\n",
       "      <th>6</th>\n",
       "      <td>15</td>\n",
       "      <td>2.0</td>\n",
       "    </tr>\n",
       "    <tr>\n",
       "      <th>7</th>\n",
       "      <td>16</td>\n",
       "      <td>2.0</td>\n",
       "    </tr>\n",
       "    <tr>\n",
       "      <th>8</th>\n",
       "      <td>17</td>\n",
       "      <td>1.0</td>\n",
       "    </tr>\n",
       "    <tr>\n",
       "      <th>9</th>\n",
       "      <td>18</td>\n",
       "      <td>2.0</td>\n",
       "    </tr>\n",
       "    <tr>\n",
       "      <th>10</th>\n",
       "      <td>20</td>\n",
       "      <td>1.0</td>\n",
       "    </tr>\n",
       "    <tr>\n",
       "      <th>11</th>\n",
       "      <td>23</td>\n",
       "      <td>1.0</td>\n",
       "    </tr>\n",
       "  </tbody>\n",
       "</table>\n",
       "</div>"
      ],
      "text/plain": [
       "    EDUC  SES\n",
       "0      6  4.0\n",
       "1      8  5.0\n",
       "2     11  4.0\n",
       "3     12  3.0\n",
       "4     13  2.0\n",
       "5     14  3.0\n",
       "6     15  2.0\n",
       "7     16  2.0\n",
       "8     17  1.0\n",
       "9     18  2.0\n",
       "10    20  1.0\n",
       "11    23  1.0"
      ]
     },
     "execution_count": 14,
     "metadata": {},
     "output_type": "execute_result"
    }
   ],
   "source": [
    "educ_ses=X_preprocessed[['EDUC', 'SES']].groupby(['EDUC'], as_index=False).median()\n",
    "educ_ses"
   ]
  },
  {
   "cell_type": "code",
   "execution_count": 15,
   "metadata": {},
   "outputs": [],
   "source": [
    "X_preprocessed.loc[(X_preprocessed['EDUC'] == 12) & (X_preprocessed['SES'].isna()), 'SES'] = educ_ses.loc[educ_ses['EDUC'] == 12, 'SES'].values[0]\n",
    "X_preprocessed.loc[(X_preprocessed['EDUC'] == 16) & (X_preprocessed.SES.isna()), 'SES'] = educ_ses.loc[educ_ses['EDUC'] == 16, 'SES'].values[0]\n",
    "\n"
   ]
  },
  {
   "cell_type": "markdown",
   "metadata": {},
   "source": [
    "### 2.  VIZUALIZACIJA I STRŠEĆI PODACI"
   ]
  },
  {
   "cell_type": "code",
   "execution_count": 16,
   "metadata": {},
   "outputs": [
    {
     "data": {
      "text/html": [
       "<div>\n",
       "<style scoped>\n",
       "    .dataframe tbody tr th:only-of-type {\n",
       "        vertical-align: middle;\n",
       "    }\n",
       "\n",
       "    .dataframe tbody tr th {\n",
       "        vertical-align: top;\n",
       "    }\n",
       "\n",
       "    .dataframe thead th {\n",
       "        text-align: right;\n",
       "    }\n",
       "</style>\n",
       "<table border=\"1\" class=\"dataframe\">\n",
       "  <thead>\n",
       "    <tr style=\"text-align: right;\">\n",
       "      <th></th>\n",
       "      <th>Subject ID</th>\n",
       "      <th>MRI ID</th>\n",
       "      <th>Group</th>\n",
       "      <th>M/F</th>\n",
       "      <th>Age</th>\n",
       "      <th>EDUC</th>\n",
       "      <th>SES</th>\n",
       "      <th>MMSE</th>\n",
       "      <th>CDR</th>\n",
       "      <th>eTIV</th>\n",
       "      <th>nWBV</th>\n",
       "      <th>ASF</th>\n",
       "      <th>Custom Group</th>\n",
       "    </tr>\n",
       "  </thead>\n",
       "  <tbody>\n",
       "    <tr>\n",
       "      <th>0</th>\n",
       "      <td>OAS2_0001</td>\n",
       "      <td>OAS2_0001_MR1</td>\n",
       "      <td>Nondemented</td>\n",
       "      <td>1</td>\n",
       "      <td>87</td>\n",
       "      <td>14</td>\n",
       "      <td>2.0</td>\n",
       "      <td>27.0</td>\n",
       "      <td>0.0</td>\n",
       "      <td>1987</td>\n",
       "      <td>0.696</td>\n",
       "      <td>0.883</td>\n",
       "      <td>0.0</td>\n",
       "    </tr>\n",
       "    <tr>\n",
       "      <th>2</th>\n",
       "      <td>OAS2_0002</td>\n",
       "      <td>OAS2_0002_MR1</td>\n",
       "      <td>Demented</td>\n",
       "      <td>1</td>\n",
       "      <td>75</td>\n",
       "      <td>12</td>\n",
       "      <td>3.0</td>\n",
       "      <td>23.0</td>\n",
       "      <td>0.5</td>\n",
       "      <td>1678</td>\n",
       "      <td>0.736</td>\n",
       "      <td>1.046</td>\n",
       "      <td>1.0</td>\n",
       "    </tr>\n",
       "    <tr>\n",
       "      <th>5</th>\n",
       "      <td>OAS2_0004</td>\n",
       "      <td>OAS2_0004_MR1</td>\n",
       "      <td>Nondemented</td>\n",
       "      <td>0</td>\n",
       "      <td>88</td>\n",
       "      <td>18</td>\n",
       "      <td>3.0</td>\n",
       "      <td>28.0</td>\n",
       "      <td>0.0</td>\n",
       "      <td>1215</td>\n",
       "      <td>0.710</td>\n",
       "      <td>1.444</td>\n",
       "      <td>0.0</td>\n",
       "    </tr>\n",
       "    <tr>\n",
       "      <th>7</th>\n",
       "      <td>OAS2_0005</td>\n",
       "      <td>OAS2_0005_MR1</td>\n",
       "      <td>Nondemented</td>\n",
       "      <td>1</td>\n",
       "      <td>80</td>\n",
       "      <td>12</td>\n",
       "      <td>4.0</td>\n",
       "      <td>28.0</td>\n",
       "      <td>0.0</td>\n",
       "      <td>1689</td>\n",
       "      <td>0.712</td>\n",
       "      <td>1.039</td>\n",
       "      <td>0.0</td>\n",
       "    </tr>\n",
       "    <tr>\n",
       "      <th>10</th>\n",
       "      <td>OAS2_0007</td>\n",
       "      <td>OAS2_0007_MR1</td>\n",
       "      <td>Demented</td>\n",
       "      <td>1</td>\n",
       "      <td>71</td>\n",
       "      <td>16</td>\n",
       "      <td>2.0</td>\n",
       "      <td>28.0</td>\n",
       "      <td>0.5</td>\n",
       "      <td>1357</td>\n",
       "      <td>0.748</td>\n",
       "      <td>1.293</td>\n",
       "      <td>1.0</td>\n",
       "    </tr>\n",
       "    <tr>\n",
       "      <th>...</th>\n",
       "      <td>...</td>\n",
       "      <td>...</td>\n",
       "      <td>...</td>\n",
       "      <td>...</td>\n",
       "      <td>...</td>\n",
       "      <td>...</td>\n",
       "      <td>...</td>\n",
       "      <td>...</td>\n",
       "      <td>...</td>\n",
       "      <td>...</td>\n",
       "      <td>...</td>\n",
       "      <td>...</td>\n",
       "      <td>...</td>\n",
       "    </tr>\n",
       "    <tr>\n",
       "      <th>359</th>\n",
       "      <td>OAS2_0182</td>\n",
       "      <td>OAS2_0182_MR1</td>\n",
       "      <td>Demented</td>\n",
       "      <td>1</td>\n",
       "      <td>73</td>\n",
       "      <td>12</td>\n",
       "      <td>3.0</td>\n",
       "      <td>23.0</td>\n",
       "      <td>0.5</td>\n",
       "      <td>1661</td>\n",
       "      <td>0.698</td>\n",
       "      <td>1.056</td>\n",
       "      <td>1.0</td>\n",
       "    </tr>\n",
       "    <tr>\n",
       "      <th>361</th>\n",
       "      <td>OAS2_0183</td>\n",
       "      <td>OAS2_0183_MR1</td>\n",
       "      <td>Nondemented</td>\n",
       "      <td>0</td>\n",
       "      <td>66</td>\n",
       "      <td>13</td>\n",
       "      <td>2.0</td>\n",
       "      <td>30.0</td>\n",
       "      <td>0.0</td>\n",
       "      <td>1495</td>\n",
       "      <td>0.746</td>\n",
       "      <td>1.174</td>\n",
       "      <td>0.0</td>\n",
       "    </tr>\n",
       "    <tr>\n",
       "      <th>365</th>\n",
       "      <td>OAS2_0184</td>\n",
       "      <td>OAS2_0184_MR1</td>\n",
       "      <td>Demented</td>\n",
       "      <td>0</td>\n",
       "      <td>72</td>\n",
       "      <td>16</td>\n",
       "      <td>3.0</td>\n",
       "      <td>24.0</td>\n",
       "      <td>0.5</td>\n",
       "      <td>1354</td>\n",
       "      <td>0.733</td>\n",
       "      <td>1.296</td>\n",
       "      <td>1.0</td>\n",
       "    </tr>\n",
       "    <tr>\n",
       "      <th>367</th>\n",
       "      <td>OAS2_0185</td>\n",
       "      <td>OAS2_0185_MR1</td>\n",
       "      <td>Demented</td>\n",
       "      <td>1</td>\n",
       "      <td>80</td>\n",
       "      <td>16</td>\n",
       "      <td>1.0</td>\n",
       "      <td>28.0</td>\n",
       "      <td>0.5</td>\n",
       "      <td>1704</td>\n",
       "      <td>0.711</td>\n",
       "      <td>1.030</td>\n",
       "      <td>1.0</td>\n",
       "    </tr>\n",
       "    <tr>\n",
       "      <th>370</th>\n",
       "      <td>OAS2_0186</td>\n",
       "      <td>OAS2_0186_MR1</td>\n",
       "      <td>Nondemented</td>\n",
       "      <td>0</td>\n",
       "      <td>61</td>\n",
       "      <td>13</td>\n",
       "      <td>2.0</td>\n",
       "      <td>30.0</td>\n",
       "      <td>0.0</td>\n",
       "      <td>1319</td>\n",
       "      <td>0.801</td>\n",
       "      <td>1.331</td>\n",
       "      <td>0.0</td>\n",
       "    </tr>\n",
       "  </tbody>\n",
       "</table>\n",
       "<p>150 rows × 13 columns</p>\n",
       "</div>"
      ],
      "text/plain": [
       "    Subject ID         MRI ID        Group M/F  Age  EDUC  SES  MMSE  CDR  \\\n",
       "0    OAS2_0001  OAS2_0001_MR1  Nondemented   1   87    14  2.0  27.0  0.0   \n",
       "2    OAS2_0002  OAS2_0002_MR1     Demented   1   75    12  3.0  23.0  0.5   \n",
       "5    OAS2_0004  OAS2_0004_MR1  Nondemented   0   88    18  3.0  28.0  0.0   \n",
       "7    OAS2_0005  OAS2_0005_MR1  Nondemented   1   80    12  4.0  28.0  0.0   \n",
       "10   OAS2_0007  OAS2_0007_MR1     Demented   1   71    16  2.0  28.0  0.5   \n",
       "..         ...            ...          ...  ..  ...   ...  ...   ...  ...   \n",
       "359  OAS2_0182  OAS2_0182_MR1     Demented   1   73    12  3.0  23.0  0.5   \n",
       "361  OAS2_0183  OAS2_0183_MR1  Nondemented   0   66    13  2.0  30.0  0.0   \n",
       "365  OAS2_0184  OAS2_0184_MR1     Demented   0   72    16  3.0  24.0  0.5   \n",
       "367  OAS2_0185  OAS2_0185_MR1     Demented   1   80    16  1.0  28.0  0.5   \n",
       "370  OAS2_0186  OAS2_0186_MR1  Nondemented   0   61    13  2.0  30.0  0.0   \n",
       "\n",
       "     eTIV   nWBV    ASF  Custom Group  \n",
       "0    1987  0.696  0.883           0.0  \n",
       "2    1678  0.736  1.046           1.0  \n",
       "5    1215  0.710  1.444           0.0  \n",
       "7    1689  0.712  1.039           0.0  \n",
       "10   1357  0.748  1.293           1.0  \n",
       "..    ...    ...    ...           ...  \n",
       "359  1661  0.698  1.056           1.0  \n",
       "361  1495  0.746  1.174           0.0  \n",
       "365  1354  0.733  1.296           1.0  \n",
       "367  1704  0.711  1.030           1.0  \n",
       "370  1319  0.801  1.331           0.0  \n",
       "\n",
       "[150 rows x 13 columns]"
      ]
     },
     "execution_count": 16,
     "metadata": {},
     "output_type": "execute_result"
    }
   ],
   "source": [
    "X_vis = X_preprocessed.copy()\n",
    "X_vis"
   ]
  },
  {
   "cell_type": "code",
   "execution_count": 17,
   "metadata": {},
   "outputs": [],
   "source": [
    "import matplotlib.pyplot as plt\n",
    "import seaborn as sns"
   ]
  },
  {
   "cell_type": "markdown",
   "metadata": {},
   "source": [
    "##### SPOL"
   ]
  },
  {
   "cell_type": "markdown",
   "metadata": {},
   "source": [
    "Pogledajmo najprije koliki postotak u našim podacima čine žene, a koliki muškarci. \n",
    "\n",
    "Koristit ćemo pitni graf za vizualizaciju."
   ]
  },
  {
   "cell_type": "code",
   "execution_count": 18,
   "metadata": {},
   "outputs": [
    {
     "data": {
      "image/png": "[encoded data removed]",
      "text/plain": [
       "<Figure size 640x480 with 1 Axes>"
      ]
     },
     "metadata": {},
     "output_type": "display_data"
    }
   ],
   "source": [
    "count_per_sex = X_vis.groupby('M/F').count().loc[:, 'Custom Group'].values\n",
    "names = X_vis.groupby('M/F').count().loc[:, 'Custom Group'].index.values\n",
    "percent = (count_per_sex/len(X_vis)) * 100\n",
    "\n",
    "plt.pie(percent, labels=[\"Female\", \"Male\"], autopct='%.2f%%')\n",
    "plt.show()"
   ]
  },
  {
   "cell_type": "markdown",
   "metadata": {},
   "source": [
    "Iz gornjeg grafa vidimo da je skupu podataka prevladava ženski spol sa udjelom od 58%"
   ]
  },
  {
   "cell_type": "markdown",
   "metadata": {},
   "source": [
    "##### PRISUTNOST ALZHEIMEROVE BOLESTI PO SPOLOVIMA"
   ]
  },
  {
   "cell_type": "markdown",
   "metadata": {},
   "source": [
    "Pogledajmo sada koliko podataka je označeno s \"Demented\" (oznaka 1), a koliko s \"Nondemented\" (oznaka 0).\n",
    "\n",
    "Također odmah ćemo razdvojiti podatke po spolu tako da ćemo za vizualizaciju koristiti posloženi dijagram."
   ]
  },
  {
   "cell_type": "code",
   "execution_count": 19,
   "metadata": {},
   "outputs": [
    {
     "data": {
      "image/png": "[encoded data removed]",
      "text/plain": [
       "<Figure size 640x480 with 1 Axes>"
      ]
     },
     "metadata": {},
     "output_type": "display_data"
    }
   ],
   "source": [
    "count_per_group_male = X_vis.loc[X_vis['M/F'] == 1, :].groupby('Custom Group').count().loc[:, 'Subject ID'].values\n",
    "count_per_group_female = X_vis.loc[X_vis['M/F'] == 0, :].groupby('Custom Group').count().loc[:, 'Subject ID'].values\n",
    "\n",
    "\n",
    "group_names = X_vis.groupby('Custom Group').count().index.values\n",
    "\n",
    "\n",
    "# plot\n",
    "plt.bar(group_names, count_per_group_female, color='blue', label='Female')\n",
    "plt.bar(group_names, count_per_group_male, color='orange', label='Male', bottom = count_per_group_female)\n",
    "\n",
    "\n",
    "plt.legend(loc='best')\n",
    "plt.xticks(np.arange(0, 2, 1))\n",
    "plt.grid()\n",
    "plt.show()\n",
    "\n",
    "\n",
    "\n"
   ]
  },
  {
   "cell_type": "markdown",
   "metadata": {},
   "source": [
    "Vidimo da je više primjera klasificirano kao \"Nondemented\" i da je općenito više žena u ovoj klasi. Nekako možemo onda naslutiti da je možda vjerojatnije da muškarci budu dijagnosticirani s Alzheimerovom bolešću.  "
   ]
  },
  {
   "cell_type": "markdown",
   "metadata": {},
   "source": [
    "##### DOB"
   ]
  },
  {
   "cell_type": "markdown",
   "metadata": {},
   "source": [
    "Iz gornje deskriptivne analize vidimo da je minimalni broj godina ispitanika u skupu podataka 60, a maksimalni broj godina 98. \n",
    "\n",
    "Podatke o dobi vizualzirat ćemo tako da napravimo histogram i razdvojimo podatke s obzirom na prisutnost Alzheimerove bolesti."
   ]
  },
  {
   "cell_type": "code",
   "execution_count": 20,
   "metadata": {},
   "outputs": [
    {
     "data": {
      "image/png": "[encoded data removed]",
      "text/plain": [
       "<Figure size 640x480 with 1 Axes>"
      ]
     },
     "metadata": {},
     "output_type": "display_data"
    }
   ],
   "source": [
    "# All data\n",
    "plt.title(\"Age\")\n",
    "plt.hist(X_vis[X_vis['Custom Group'] == 0].Age, bins=8, range=(60,100), alpha=0.5, color='green', label=\"Age nondemented\")\n",
    "plt.hist(X_vis[X_vis['Custom Group'] == 1].Age, bins=8, range=(60,100), alpha=0.5, color='yellow', label=\"Age demented\")\n",
    "plt.legend(loc='best')\n",
    "plt.xlabel('Age')\n",
    "plt.ylabel('Count')\n",
    "plt.yticks(np.arange(0,50,5))\n",
    "plt.grid()\n",
    "\n",
    "\n",
    "\n"
   ]
  },
  {
   "cell_type": "markdown",
   "metadata": {},
   "source": [
    "##### OBRAZOVANJE I SOCIOEKONOMSKI STATUS\n",
    "\n"
   ]
  },
  {
   "cell_type": "markdown",
   "metadata": {},
   "source": [
    "Značajke EDUC i SES koje predstavljaju obrazovanje i socioekonomski status prikazane su grafom raspršenja u usporedbi s brojem godina. Dodatno drugačijom bojom prikazani su pacijenti kojima je dijagnosticirana Alzheimerova bolest."
   ]
  },
  {
   "cell_type": "code",
   "execution_count": 21,
   "metadata": {},
   "outputs": [
    {
     "data": {
      "image/png": "[encoded data removed]",
      "text/plain": [
       "<Figure size 1000x500 with 2 Axes>"
      ]
     },
     "metadata": {},
     "output_type": "display_data"
    }
   ],
   "source": [
    "#mask\n",
    "mask_demented = X_vis['Custom Group'] == 1\n",
    "\n",
    "fig, ax = plt.subplots(1,2, figsize=(10,5))\n",
    "\n",
    "ax[0].set_title('EDUC - SES (nondemented)')\n",
    "ax[0].scatter(X_vis.loc[~mask_demented, 'EDUC'], X_vis.loc[~mask_demented, 'SES'], alpha=0.5, c='r', label=\"nondemented\")\n",
    "ax[0].legend(loc='best')\n",
    "ax[0].set_xticks(np.arange(6,28,2))\n",
    "ax[0].set_xlabel('EDUC')\n",
    "ax[0].set_ylabel('SES')\n",
    "ax[0].grid()\n",
    "\n",
    "ax[1].set_title('EDUC - SES (demented)')\n",
    "ax[1].scatter(X_vis.loc[mask_demented, 'EDUC'], X_vis.loc[mask_demented, 'SES'], alpha=0.5, c='g', label=\"demented\")\n",
    "ax[1].legend(loc='best')\n",
    "ax[1].legend(loc='best')\n",
    "ax[1].set_xticks(np.arange(6,28,2))\n",
    "ax[1].set_xlabel('EDUC')\n",
    "ax[1].set_ylabel('SES')\n",
    "ax[1].grid()\n",
    "\n",
    "\n",
    "\n"
   ]
  },
  {
   "cell_type": "markdown",
   "metadata": {},
   "source": [
    "Iz gornjih grafova ne možemo baš naslutiti postoji li kakva veza između značajki EDUC, SES i dijagnosticiranja Alzheimerove bolesti. Doduše na ovom grafu se vidi dobra koreliranost značajki EDUC i SES."
   ]
  },
  {
   "cell_type": "markdown",
   "metadata": {},
   "source": [
    "##### KOGNITIVNE SPOSOBNOSTI (MMSE)"
   ]
  },
  {
   "cell_type": "markdown",
   "metadata": {},
   "source": [
    "Značajka MMSE vizualzirana je pomoću boxplota kako bismo vidjeli postoje li neke stršeće vrijednosti u skupu podataka te pomoću violinskog plota gdje su podaci još dodatno razdvojeni po klasama s obzirom na prisutnost Alzheimerove bolesti."
   ]
  },
  {
   "cell_type": "code",
   "execution_count": 22,
   "metadata": {},
   "outputs": [
    {
     "data": {
      "image/png": "[encoded data removed]",
      "text/plain": [
       "<Figure size 640x480 with 1 Axes>"
      ]
     },
     "metadata": {},
     "output_type": "display_data"
    }
   ],
   "source": [
    "plt.boxplot(X_vis.MMSE)\n",
    "plt.title('Boxplot MMSE')\n",
    "plt.ylabel('MMSE score')\n",
    "plt.show()\n"
   ]
  },
  {
   "cell_type": "markdown",
   "metadata": {},
   "source": [
    "Analizom boxplota zaključuje se da postoje stršeće vrijednosti u značajki MMSE, ali kako je to mjera kognitivnih sposobnosti koja se prikuplja upitnikom valjano je pretpostavit kako su ove stršeće vrijednosti točne i da nisu rezultat šuma u podacima."
   ]
  },
  {
   "cell_type": "code",
   "execution_count": 23,
   "metadata": {},
   "outputs": [
    {
     "data": {
      "image/png": "[encoded data removed]",
      "text/plain": [
       "<Figure size 640x480 with 1 Axes>"
      ]
     },
     "metadata": {},
     "output_type": "display_data"
    }
   ],
   "source": [
    "plt.title('Violin plot')\n",
    "sns.violinplot(x=\"MMSE\", y=\"Custom Group\",hue=\"M/F\" ,orient=\"h\", data=X_vis, palette=\"muted\", split=True, inner=\"quartile\")\n",
    "plt.show()\n"
   ]
  },
  {
   "cell_type": "markdown",
   "metadata": {},
   "source": [
    "Iz gornjeg violinskog grafa zaključujemo da i muškarci i žene koji ne pokazuju simptome Alzheimerove bolesti postižu MMSE vrijednost u intervalu od 26 do 30 što ukazuje na normalne kognitivne sposobnosti. Osobe koje pokazuju simptome Alzheimerove bolesti s druge strane imaju rasprešeniju MMSE vrijednost s medijanom oko 25 što upućuje na smanjenu kognitivnu sposobnost. \n",
    "Iz prikaza se može iščitati kako oba spola postižu podjednake vrijednosti u  značajki MMSE."
   ]
  },
  {
   "cell_type": "markdown",
   "metadata": {},
   "source": [
    "##### PROCJENJENI INTERKRANIJALNI VOLUMEN (eTIV)"
   ]
  },
  {
   "cell_type": "markdown",
   "metadata": {},
   "source": [
    "Za vizualziaciju ove značajke koristi se boxplot i violinski plot."
   ]
  },
  {
   "cell_type": "code",
   "execution_count": 24,
   "metadata": {},
   "outputs": [
    {
     "data": {
      "image/png": "[encoded data removed]",
      "text/plain": [
       "<Figure size 640x480 with 1 Axes>"
      ]
     },
     "metadata": {},
     "output_type": "display_data"
    }
   ],
   "source": [
    "plt.boxplot(X_vis.eTIV)\n",
    "plt.title('Boxplot eTIV')\n",
    "plt.ylabel('eTIV')\n",
    "plt.show()"
   ]
  },
  {
   "cell_type": "markdown",
   "metadata": {},
   "source": [
    "Iz boxplota je vidljivo da ova značajka nema mnogo stršećoh vrijednosti - radi se o 3 primjera i oni ne odskaču toliko od ostatka skupa. S obzirom da se radi o značajki koja procjenjuje intrakranijalni volumen validna je pretpostavka da ti podaci nisu rezultat šuma u podacima ili krivo unesenih podataka prilikom formiranja skupa podataka."
   ]
  },
  {
   "cell_type": "code",
   "execution_count": 25,
   "metadata": {},
   "outputs": [
    {
     "data": {
      "image/png": "[encoded data removed]",
      "text/plain": [
       "<Figure size 640x480 with 1 Axes>"
      ]
     },
     "metadata": {},
     "output_type": "display_data"
    }
   ],
   "source": [
    "sns.violinplot(x=\"eTIV\", y=\"Custom Group\",hue=\"M/F\" ,orient=\"h\", data=X_vis, palette=\"muted\", split=True, inner=\"quartile\")\n",
    "plt.show()"
   ]
  },
  {
   "cell_type": "markdown",
   "metadata": {},
   "source": [
    "Gornji prikaz upućuje na to da muškarci općenito imaju veći intrakranijalni volumen što je u skladu s istraživanjima iz područja biomedicine.  \n",
    "Gornji graf ukazuje i na činjenicu da muškarci kojima je dijagnosticirana Alzheimerova bolest imaju manji intrakranijalni volumen od muškaraca kojima nije dijagnosticirana Alzheimerova bolest."
   ]
  },
  {
   "cell_type": "markdown",
   "metadata": {},
   "source": [
    "##### NORMALIZIRANI VOLUMEN CIJELOG MOZGA (nWBV)"
   ]
  },
  {
   "cell_type": "markdown",
   "metadata": {},
   "source": [
    "Za vizualizaciju ove značajke koristi se boxplot i violinski plot."
   ]
  },
  {
   "cell_type": "code",
   "execution_count": 26,
   "metadata": {},
   "outputs": [
    {
     "data": {
      "image/png": "[encoded data removed]",
      "text/plain": [
       "<Figure size 640x480 with 1 Axes>"
      ]
     },
     "metadata": {},
     "output_type": "display_data"
    }
   ],
   "source": [
    "plt.boxplot(X_vis.nWBV)\n",
    "plt.title('Boxplot nWBV')\n",
    "plt.ylabel('nWBV')\n",
    "plt.show()"
   ]
  },
  {
   "cell_type": "markdown",
   "metadata": {},
   "source": [
    "Iz boxplota vidimo da ova značajka ima jednu stršeću vrijednost. No kako ona ne odskače previše i značajka predstavlja normalizirani volumen mozga primjer ćemo ostaviti u skupu podataka."
   ]
  },
  {
   "cell_type": "code",
   "execution_count": 27,
   "metadata": {},
   "outputs": [
    {
     "data": {
      "image/png": "[encoded data removed]",
      "text/plain": [
       "<Figure size 640x480 with 1 Axes>"
      ]
     },
     "metadata": {},
     "output_type": "display_data"
    }
   ],
   "source": [
    "sns.violinplot(x=\"nWBV\", y=\"Custom Group\",hue=\"M/F\" ,orient=\"h\", data=X_vis, palette=\"muted\", split=True, inner=\"quartile\")\n",
    "plt.show()"
   ]
  },
  {
   "cell_type": "markdown",
   "metadata": {},
   "source": [
    "Iz violinskog prikaza značajke nWBV vidljivo je da grupa ljudi kojima nije dijagnosticirana Alzheimerova bolest imaju veću vrijednost ove značajke. Drugim riječima ljudi koji nemaju dijagnosticiranu Alzheimerovu bolest imaju veći volumen mozga. Ovo proizlazi iz načina na koji Alzheimerova bolest napada stanice mozga.  "
   ]
  },
  {
   "cell_type": "markdown",
   "metadata": {},
   "source": [
    "##### Atlas skalirajući faktor (ASF)"
   ]
  },
  {
   "cell_type": "markdown",
   "metadata": {},
   "source": [
    "Vizualizacija ove značajke napravljena je pomoću boxplota i violinskog grafa."
   ]
  },
  {
   "cell_type": "code",
   "execution_count": 28,
   "metadata": {},
   "outputs": [
    {
     "data": {
      "image/png": "[encoded data removed]",
      "text/plain": [
       "<Figure size 640x480 with 1 Axes>"
      ]
     },
     "metadata": {},
     "output_type": "display_data"
    }
   ],
   "source": [
    "plt.boxplot(X_vis.ASF)\n",
    "plt.title('Boxplot ASF')\n",
    "plt.ylabel('ASF')\n",
    "plt.show()"
   ]
  },
  {
   "cell_type": "markdown",
   "metadata": {},
   "source": [
    "Iz kutijastog grafa vidljivo je da ASF značjaka nema stršećih vrijednosti."
   ]
  },
  {
   "cell_type": "code",
   "execution_count": 29,
   "metadata": {},
   "outputs": [
    {
     "data": {
      "image/png": "[encoded data removed]",
      "text/plain": [
       "<Figure size 640x480 with 1 Axes>"
      ]
     },
     "metadata": {},
     "output_type": "display_data"
    }
   ],
   "source": [
    "sns.violinplot(x=\"ASF\", y=\"Custom Group\",hue=\"M/F\" ,orient=\"h\", data=X_vis, palette=\"muted\", split=True, inner=\"quartile\")\n",
    "plt.show()"
   ]
  },
  {
   "cell_type": "markdown",
   "metadata": {},
   "source": [
    "Gornji prikaz upućuje na to da grupa kojoj je dijagnosticirana Alzheimerova bolest i grupa kojoj nije dijagnosticirana bolest imaju podjednak ASF.  \n",
    "Također može se naslutiti da žene imaju veću vrijednost ASF od muškaraca"
   ]
  }
 ],
 "metadata": {
  "kernelspec": {
   "display_name": "py38_uzop",
   "language": "python",
   "name": "python3"
  },
  "language_info": {
   "codemirror_mode": {
    "name": "ipython",
    "version": 3
   },
   "file_extension": ".py",
   "mimetype": "text/x-python",
   "name": "python",
   "nbconvert_exporter": "python",
   "pygments_lexer": "ipython3",
   "version": "3.8.18"
  }
 },
 "nbformat": 4,
 "nbformat_minor": 2
}
